{
 "cells": [
  {
   "cell_type": "markdown",
   "metadata": {},
   "source": [
    "## Emotion classifier using semi-supervised learning \n",
    "\n",
    "This notebook contains methods for utilizing semi supervised learning to label the GTZAN dataset with moods for each entry."
   ]
  },
  {
   "cell_type": "code",
   "execution_count": 204,
   "metadata": {},
   "outputs": [],
   "source": [
    "# import required libraries\n",
    "\n",
    "import numpy as np\n",
    "import pandas as pd\n",
    "from sklearn.model_selection import train_test_split\n",
    "from sklearn.linear_model import LogisticRegression\n",
    "from sklearn.preprocessing import StandardScaler\n",
    "from sklearn.metrics import classification_report, confusion_matrix, accuracy_score\n",
    "import seaborn as sns\n",
    "import matplotlib.pyplot as plt\n",
    "import joblib\n",
    "\n",
    "\n",
    "path_to_csv = 'gtzan-dataset-music-genre-classification/features_30_sec.csv'"
   ]
  },
  {
   "cell_type": "markdown",
   "metadata": {},
   "source": [
    "The idea is to manually label 150 samples, obtained using stratified sampling."
   ]
  },
  {
   "cell_type": "code",
   "execution_count": null,
   "metadata": {},
   "outputs": [],
   "source": [
    "features_df = pd.read_csv(path_to_csv)\n",
    "features_df"
   ]
  },
  {
   "cell_type": "code",
   "execution_count": null,
   "metadata": {},
   "outputs": [],
   "source": [
    "sampled_df = features_df[['filename', 'label']].groupby('label', group_keys=False).apply(lambda x: x.sample(15), include_groups=False).sample(frac=1)\n",
    "sampled_df[\"mood\"] = [''] * 150\n",
    "sampled_df.to_csv('gtzan-dataset-music-genre-classification/sampled_features.csv')"
   ]
  },
  {
   "cell_type": "markdown",
   "metadata": {},
   "source": [
    "Now lets manually label the data :)"
   ]
  },
  {
   "cell_type": "code",
   "execution_count": null,
   "metadata": {},
   "outputs": [],
   "source": [
    "path_to_labeled_csv = ''\n",
    "import pandas as pd\n",
    "labeled_df = pd.read_csv('gtzan-dataset-music-genre-classification/sampled_features_labeled.csv', index_col=0)\n",
    "labeled_df.mood.unique()"
   ]
  },
  {
   "cell_type": "markdown",
   "metadata": {},
   "source": [
    "Before we merge our labels back to our data, lets drop irrelevant features, and normalize the remaining ones."
   ]
  },
  {
   "cell_type": "code",
   "execution_count": null,
   "metadata": {},
   "outputs": [],
   "source": [
    "X = features_df.drop(['filename', 'length', 'label'], axis=1)\n",
    "var_columns = [col for col in X.columns if col.endswith('var')]\n",
    "X = X.drop(var_columns, axis=1)\n",
    "\n",
    "# Normalize features\n",
    "scaler = StandardScaler()\n",
    "X_normalized = pd.DataFrame(\n",
    "    scaler.fit_transform(X),\n",
    "    columns=X.columns,\n",
    "    index=X.index\n",
    ")\n",
    "\n",
    "joblib.dump(scaler, 'scaler.pkl')\n",
    "\n",
    "X_normalized.head()"
   ]
  },
  {
   "cell_type": "markdown",
   "metadata": {},
   "source": [
    "Let now add back the features to our labelled samples"
   ]
  },
  {
   "cell_type": "code",
   "execution_count": null,
   "metadata": {},
   "outputs": [],
   "source": [
    "merged_df = X_normalized.loc[labeled_df.index]\n",
    "merged_df['mood'] = labeled_df['mood']\n",
    "merged_df.head()"
   ]
  },
  {
   "cell_type": "markdown",
   "metadata": {},
   "source": [
    "Now lets get our remaining data ready for labeling."
   ]
  },
  {
   "cell_type": "code",
   "execution_count": null,
   "metadata": {},
   "outputs": [],
   "source": [
    "X_unlabeled = X_normalized.drop(labeled_df.index)\n",
    "X_unlabeled.head()"
   ]
  },
  {
   "cell_type": "code",
   "execution_count": null,
   "metadata": {},
   "outputs": [],
   "source": [
    "X_labeled = merged_df.drop('mood', axis=1)\n",
    "y_labeled = merged_df['mood']\n",
    "X_labeled.columns"
   ]
  },
  {
   "cell_type": "code",
   "execution_count": null,
   "metadata": {},
   "outputs": [],
   "source": [
    "def semi_supervised_labeling(X_labeled, y_labeled, X_unlabeled, \n",
    "                           initial_threshold=0.85, min_threshold=0.75, threshold_decay=0.02):\n",
    "    \n",
    "    current_threshold = initial_threshold\n",
    "    results_history = []\n",
    "\n",
    "    while current_threshold >= min_threshold:\n",
    "        # Train model on current labeled data\n",
    "        \n",
    "        # Option 2: Logistic Regression\n",
    "        clf = LogisticRegression(\n",
    "            max_iter=1000,\n",
    "            random_state=42,\n",
    "            solver='newton-cg'\n",
    "        )\n",
    "        clf.fit(X_labeled, y_labeled)\n",
    "        \n",
    "        # Get predictions and confidence scores for unlabeled data\n",
    "        predictions = clf.predict(X_unlabeled)\n",
    "        confidence_scores = np.max(clf.predict_proba(X_unlabeled), axis=1)\n",
    "        \n",
    "        # Find high confidence predictions\n",
    "        high_confidence_mask = confidence_scores >= initial_threshold\n",
    "\n",
    "        if not any(high_confidence_mask):\n",
    "            current_threshold -= threshold_decay\n",
    "            print(f\"No confident predictions found. Lowering threshold to {current_threshold:.2f}\")\n",
    "            continue\n",
    "            \n",
    "        # Create new labeled data with correct indices\n",
    "        confident_indices = X_unlabeled[high_confidence_mask].index\n",
    "        new_X_labeled = X_unlabeled.loc[confident_indices]\n",
    "        new_y_labeled = pd.Series(predictions[high_confidence_mask], index=confident_indices)\n",
    "        \n",
    "        # Concatenate while preserving indices\n",
    "        X_labeled = pd.concat([X_labeled, new_X_labeled])\n",
    "        y_labeled = pd.concat([y_labeled, new_y_labeled])\n",
    "        \n",
    "        # Remove newly labeled samples using index-based selection\n",
    "        X_unlabeled = X_unlabeled.drop(confident_indices)\n",
    "\n",
    "        # Store results for this iteration\n",
    "        results_history.append({\n",
    "            'threshold': current_threshold,\n",
    "            'samples_added': len(high_confidence_mask),\n",
    "            'total_labeled': len(X_labeled),\n",
    "            'confidence_mean': confidence_scores[high_confidence_mask].mean()\n",
    "        })\n",
    "        \n",
    "        print(f\"Added {sum(high_confidence_mask)} samples. Total labeled: {len(X_labeled)}\")\n",
    "        \n",
    "    return X_labeled, y_labeled, X_unlabeled, results_history\n",
    "\n",
    "# Run the iterative process\n",
    "final_X_labeled, final_y_labeled, remaining_unlabeled, results = semi_supervised_labeling(\n",
    "    X_labeled, y_labeled, X_unlabeled\n",
    ")"
   ]
  },
  {
   "cell_type": "markdown",
   "metadata": {},
   "source": [
    "Now lets train a classifier based on our labeled data, and measure its performance!"
   ]
  },
  {
   "cell_type": "code",
   "execution_count": null,
   "metadata": {},
   "outputs": [],
   "source": [
    "X_train, X_test, y_train, y_test = train_test_split(final_X_labeled, final_y_labeled, test_size=0.2, random_state=42)\n",
    "\n",
    "clf = LogisticRegression(\n",
    "            max_iter=1000,\n",
    "            random_state=42,\n",
    "            solver='newton-cg'\n",
    "        )\n",
    "clf.fit(X_train, y_train)\n",
    "predictions = clf.predict(X_test)\n",
    "\n",
    "print(\"Accuracy:\", accuracy_score(y_test, predictions))\n",
    "\n",
    "# Detailed classification report\n",
    "print(\"\\nClassification Report:\")\n",
    "print(classification_report(y_test, predictions))\n",
    "\n",
    "\n",
    "\n"
   ]
  },
  {
   "cell_type": "markdown",
   "metadata": {},
   "source": [
    "People say numbers don't lie, I believe they sometimes might. So lets sample some of our predictions and manually check if they make sense!"
   ]
  },
  {
   "cell_type": "code",
   "execution_count": null,
   "metadata": {},
   "outputs": [],
   "source": [
    "checking_df = features_df.loc[final_y_labeled.index]['filename']\n",
    "checking_df = pd.DataFrame(checking_df)\n",
    "checking_df['mood'] = final_y_labeled\n",
    "checking_df = checking_df.drop(labeled_df.index)\n",
    "checking_df.sample()"
   ]
  },
  {
   "cell_type": "markdown",
   "metadata": {},
   "source": [
    "Looks pretty good to me :)"
   ]
  },
  {
   "cell_type": "code",
   "execution_count": null,
   "metadata": {},
   "outputs": [],
   "source": [
    "\n",
    "# Save the model\n",
    "joblib.dump(clf, 'emotion_classifier.joblib')"
   ]
  }
 ],
 "metadata": {
  "kernelspec": {
   "display_name": "Python 3",
   "language": "python",
   "name": "python3"
  },
  "language_info": {
   "codemirror_mode": {
    "name": "ipython",
    "version": 3
   },
   "file_extension": ".py",
   "mimetype": "text/x-python",
   "name": "python",
   "nbconvert_exporter": "python",
   "pygments_lexer": "ipython3",
   "version": "3.12.1"
  }
 },
 "nbformat": 4,
 "nbformat_minor": 2
}
